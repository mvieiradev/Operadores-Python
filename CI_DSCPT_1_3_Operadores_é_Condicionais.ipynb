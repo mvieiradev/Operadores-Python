{
  "cells": [
    {
      "cell_type": "markdown",
      "metadata": {
        "id": "view-in-github",
        "colab_type": "text"
      },
      "source": [
        "<a href=\"https://colab.research.google.com/github/mvieiradev/Operadores-Python/blob/main/CI_DSCPT_1_3_Operadores_%C3%A9_Condicionais.ipynb\" target=\"_parent\"><img src=\"https://colab.research.google.com/assets/colab-badge.svg\" alt=\"Open In Colab\"/></a>"
      ]
    },
    {
      "cell_type": "markdown",
      "metadata": {
        "id": "n8d-q8rj5qng"
      },
      "source": [
        "Condicionais"
      ]
    },
    {
      "cell_type": "code",
      "execution_count": null,
      "metadata": {
        "id": "cRvCiQlHVuV8"
      },
      "outputs": [],
      "source": [
        "a=3\n",
        "b=5\n",
        "c=a+b\n",
        "print(c)\n",
        "\n",
        "c=b-a\n",
        "c\n",
        "\n",
        "c=b*a\n",
        "c\n",
        "\n",
        "c=b/a\n",
        "c\n",
        "\n",
        "c=b%a\n",
        "c\n",
        "\n",
        "c=b**a"
      ]
    },
    {
      "cell_type": "markdown",
      "metadata": {
        "id": "wWYOIWAk5zXP"
      },
      "source": [
        "Operadores"
      ]
    },
    {
      "cell_type": "code",
      "execution_count": null,
      "metadata": {
        "colab": {
          "background_save": true
        },
        "id": "3ZpTPYt65ybq"
      },
      "outputs": [],
      "source": [
        "year=int(input(\"Introduza o seu ano de nascimento:\"))\n",
        "idade=2023-year\n",
        "print(\"Tenis\", idade, \"anos.\")"
      ]
    },
    {
      "cell_type": "code",
      "execution_count": null,
      "metadata": {
        "id": "EAsQovuJ7JOv"
      },
      "outputs": [],
      "source": [
        "lado=float(input(\"Introduza o lado = \"))\n",
        "area=lado**2\n",
        "print(area)"
      ]
    },
    {
      "cell_type": "code",
      "execution_count": null,
      "metadata": {
        "id": "Or7Bjy8-9YFG"
      },
      "outputs": [],
      "source": [
        "num_1=int(input(\"introduza o primeiro numero:\"))\n",
        "num_2=int(input(\"introduza o segundo numero:\"))\n",
        "soma=num_1 + num_2\n",
        "subs=num_1 - num_2\n",
        "print(\"A soma e:\", soma, \"\\nA subtracao e:\" , subs)"
      ]
    },
    {
      "cell_type": "code",
      "execution_count": null,
      "metadata": {
        "id": "4-5RYN_iuOAB"
      },
      "outputs": [],
      "source": [
        "numero=int(input(\"Introduza o numero\"))\n",
        "if numero>= 10: \n",
        "  x=True\n",
        "else:\n",
        "  x=False\n",
        "print(\"O resultado da comparacao e: \", x )"
      ]
    },
    {
      "cell_type": "code",
      "source": [
        "year=int(input(\"Introduza o ano: \"))\n",
        "idade=2022-year\n",
        "if idade >= 18:\n",
        "    print(\"Tenis\", idade, \"anos.\" , \"Es mair de idade\")\n",
        "  else:\n",
        "    print(\"Tens\", idade, \"anos\")"
      ],
      "metadata": {
        "id": "CENrmLfBEpD_"
      },
      "execution_count": null,
      "outputs": []
    },
    {
      "cell_type": "code",
      "source": [
        "x=int(input(\"ponto x\"))\n",
        "y=int(input(\"ponto y\"))\n",
        "if x<=10 and y<=10: \n",
        "  res=True\n",
        "else:\n",
        "  res=False\n",
        "print(\"O resultado da comparacao e:\", res)"
      ],
      "metadata": {
        "id": "6J5ex177GFfC"
      },
      "execution_count": null,
      "outputs": []
    },
    {
      "cell_type": "code",
      "source": [
        "numero=int(input(\"Introduza um numero: \"))\n",
        "if numero%2 != 0:\n",
        "  print(\"E UM NUMERO IMPAR\")\n",
        "else:\n",
        "  print(\"O NUMERO E PAR\")"
      ],
      "metadata": {
        "id": "K4vfB-NUHQlN"
      },
      "execution_count": null,
      "outputs": []
    },
    {
      "cell_type": "code",
      "source": [
        "numero=int(input(\"Introduza um numero:\"))\n",
        "if numero >= 0 and numero <=10:\n",
        "  x=True\n",
        "else:\n",
        "  x=False\n",
        "print(x)"
      ],
      "metadata": {
        "id": "EFHoGPwQHqr3"
      },
      "execution_count": null,
      "outputs": []
    },
    {
      "cell_type": "code",
      "source": [
        "numero=int(input(\"Introduza um numero:\"))\n",
        "if 0<=numero<=10:\n",
        "  x=True\n",
        "else: \n",
        "  x=False\n",
        "print(x)"
      ],
      "metadata": {
        "id": "6dBjddYhH-ZP"
      },
      "execution_count": null,
      "outputs": []
    },
    {
      "cell_type": "markdown",
      "metadata": {
        "id": "j1HMNf5guPfH"
      },
      "source": [
        "Teste\n"
      ]
    },
    {
      "cell_type": "code",
      "execution_count": null,
      "metadata": {
        "colab": {
          "background_save": true
        },
        "id": "UgpznyKZJOAE"
      },
      "outputs": [],
      "source": [
        "num_1=int(input(\"introduza o primeiro numero:\"))\n",
        "num_2=int(input(\"introduza o segundo numero:\"))\n",
        "soma=num_1 + num_2\n",
        "print(\"A soma e:\", soma)\n",
        "if soma>= 10: \n",
        "  x=True\n",
        "else:\n",
        "  x=False\n",
        "print(\"O resultado da comparacao e: \", x )"
      ]
    }
  ],
  "metadata": {
    "colab": {
      "provenance": [],
      "authorship_tag": "ABX9TyP+T9vI6NCAdKsThypnKuzN",
      "include_colab_link": true
    },
    "kernelspec": {
      "display_name": "Python 3",
      "name": "python3"
    },
    "language_info": {
      "name": "python"
    }
  },
  "nbformat": 4,
  "nbformat_minor": 0
}